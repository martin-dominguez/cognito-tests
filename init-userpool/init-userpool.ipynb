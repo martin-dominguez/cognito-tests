{
 "cells": [
  {
   "cell_type": "markdown",
   "metadata": {},
   "source": [
    "During this notebook you can see how to configure and use a Amazon Cognito's user pool to create a user creation flow with the following requirements:\n",
    "* Email and phone number are required in user creation. They must be unique in the user pool.\n",
    "* The email is the login username.\n",
    "* A code will be generated to verify the user's email address and the phone number. They must be verified before activate the user."
   ]
  },
  {
   "cell_type": "markdown",
   "metadata": {},
   "source": [
    "Let's import the boto3 library and configure a client to connect to cognito. This requires `aws-cli` exists in your system. In this example we're using the default profile configured in my system, but you can use a different profile by using the following:\n",
    "```\n",
    "session = boto3.session.Session(profile_name='your_profile')\n",
    "cognito = session.client('cognito-idp')\n",
    "```"
   ]
  },
  {
   "cell_type": "code",
   "execution_count": 43,
   "metadata": {},
   "outputs": [],
   "source": [
    "import boto3\n",
    "cognito = boto3.client('cognito-idp')"
   ]
  },
  {
   "cell_type": "markdown",
   "metadata": {},
   "source": [
    "This is a function to prettify the user print output\n"
   ]
  },
  {
   "cell_type": "code",
   "execution_count": 44,
   "metadata": {},
   "outputs": [],
   "source": [
    "\n",
    "def prettify_user_output(user):\n",
    "    print_user = {}\n",
    "    print_user['username'] = user['Username']\n",
    "    for attr in user['UserAttributes']:\n",
    "        if attr['Name'] == 'email':\n",
    "            print_user['email'] = attr['Value']\n",
    "        elif attr['Name'] == 'phone_number':\n",
    "            print_user['phone_number'] = attr['Value']\n",
    "    print_user['enabled'] = user['Enabled']\n",
    "    print_user['user_status'] = user['UserStatus']\n",
    "\n",
    "    print(f\"\"\"\n",
    "    {'-'*40}\n",
    "    Username: {print_user['username']}\n",
    "    Email: {print_user['email']}\n",
    "    Phone Number: {print_user['phone_number']}\n",
    "    User Status: {print_user['user_status']}\n",
    "    Enable: {print_user['enabled']}\n",
    "    {'-'*40}\n",
    "    \"\"\"\n",
    "    )"
   ]
  },
  {
   "cell_type": "markdown",
   "metadata": {},
   "source": [
    "At this point we will create the user pool if not created yet. It created, comment the next block and user your own `user_pool_id` for the following requests."
   ]
  },
  {
   "cell_type": "code",
   "execution_count": 46,
   "metadata": {},
   "outputs": [],
   "source": [
    "user_pool_response = cognito.create_user_pool(\n",
    "    PoolName='TestUserPool',\n",
    "    AutoVerifiedAttributes=['email'],\n",
    "    UsernameAttributes=['phone_number','email'],\n",
    "    MfaConfiguration='OFF',\n",
    "    UserAttributeUpdateSettings={\n",
    "        'AttributesRequireVerificationBeforeUpdate': ['email']\n",
    "    },\n",
    "    EmailConfiguration={\n",
    "        'EmailSendingAccount': 'COGNITO_DEFAULT'\n",
    "    },\n",
    "    AdminCreateUserConfig={\n",
    "        'AllowAdminCreateUserOnly': False\n",
    "    },\n",
    "    Schema=[\n",
    "        {\n",
    "            'Name': 'department',\n",
    "            'AttributeDataType': 'String',\n",
    "            'DeveloperOnlyAttribute': False,\n",
    "            'Mutable': True,\n",
    "            'Required': False,\n",
    "            'StringAttributeConstraints': {\n",
    "                'MinLength': '0',\n",
    "                'MaxLength': '100'\n",
    "            }\n",
    "        }\n",
    "    ],\n",
    "    UserPoolAddOns={\n",
    "        'AdvancedSecurityMode': 'OFF',\n",
    "    },\n",
    "    UsernameConfiguration={\n",
    "        'CaseSensitive': False\n",
    "    }\n",
    ")"
   ]
  },
  {
   "cell_type": "code",
   "execution_count": 47,
   "metadata": {},
   "outputs": [
    {
     "name": "stdout",
     "output_type": "stream",
     "text": [
      "User pool ID: us-east-1_IecKXZb05\n"
     ]
    }
   ],
   "source": [
    "user_pool_id = user_pool_response['UserPool']['Id']\n",
    "print(\"User pool ID: \" + user_pool_id)"
   ]
  },
  {
   "cell_type": "markdown",
   "metadata": {},
   "source": [
    "In order to use an external application it's necessary to create a new client for our user pool. If you already have your own, just comment the next block and add your `client_id`."
   ]
  },
  {
   "cell_type": "code",
   "execution_count": 48,
   "metadata": {},
   "outputs": [],
   "source": [
    "client_response = cognito.create_user_pool_client(\n",
    "    UserPoolId=user_pool_id,\n",
    "    ClientName='TestClient',\n",
    "    CallbackURLs=[\n",
    "        'http://localhost',\n",
    "    ]\n",
    ")"
   ]
  },
  {
   "cell_type": "code",
   "execution_count": 49,
   "metadata": {},
   "outputs": [
    {
     "name": "stdout",
     "output_type": "stream",
     "text": [
      "Client Id: 4uee0udf1d187ut3vb2ktafg20\n"
     ]
    }
   ],
   "source": [
    "client_id = client_response['UserPoolClient']['ClientId']\n",
    "print(\"Client Id: \" + client_id)"
   ]
  },
  {
   "cell_type": "markdown",
   "metadata": {},
   "source": [
    "Now, let's create our first user by using the email address as username."
   ]
  },
  {
   "cell_type": "code",
   "execution_count": 50,
   "metadata": {},
   "outputs": [],
   "source": [
    "user_pass = '@ComplexPass1'\n",
    "user_mail = 'your_valid@email.com'\n",
    "user_phone_number = '+1234234234'"
   ]
  },
  {
   "cell_type": "code",
   "execution_count": 51,
   "metadata": {},
   "outputs": [],
   "source": [
    "sing_up_response = cognito.sign_up(\n",
    "    ClientId=client_id,\n",
    "    Username=user_mail,\n",
    "    Password=user_pass,\n",
    "    UserAttributes=[\n",
    "        {\n",
    "            'Name': 'email',\n",
    "            'Value': user_mail\n",
    "        },\n",
    "        {\n",
    "            'Name': 'phone_number',\n",
    "            'Value': user_phone_number\n",
    "        },\n",
    "        {\n",
    "            'Name': 'custom:department',\n",
    "            'Value': 'example_department'\n",
    "        }\n",
    "    ]\n",
    ")"
   ]
  },
  {
   "cell_type": "markdown",
   "metadata": {},
   "source": [
    "Let's get the user to double-check that everything is working well"
   ]
  },
  {
   "cell_type": "code",
   "execution_count": 55,
   "metadata": {},
   "outputs": [
    {
     "name": "stdout",
     "output_type": "stream",
     "text": [
      "\n",
      "    ----------------------------------------\n",
      "    Username: 8b79d87d-3883-47b0-9b18-f2791d07c4e5\n",
      "    Email: your_valid@email.com\n",
      "    Phone Number: +1234234234\n",
      "    User Status: UNCONFIRMED\n",
      "    Enable: True\n",
      "    ----------------------------------------\n",
      "    \n"
     ]
    }
   ],
   "source": [
    "user = cognito.admin_get_user(\n",
    "    UserPoolId=user_pool_id,\n",
    "    Username=user_mail\n",
    ")\n",
    "\n",
    "prettify_user_output(user)\n"
   ]
  },
  {
   "cell_type": "markdown",
   "metadata": {},
   "source": [
    "A new email was sent to our inbox containing the sing-up code. Use it to fill out the `code` parameter and confirm the sing-up operation."
   ]
  },
  {
   "cell_type": "code",
   "execution_count": null,
   "metadata": {},
   "outputs": [],
   "source": [
    "code = '######'\n",
    "confirmation_response = cognito.confirm_sign_up(\n",
    "    ClientId=client_id,\n",
    "    Username=user_mail,\n",
    "    ConfirmationCode=code,\n",
    "    ForceAliasCreation=False\n",
    ")"
   ]
  },
  {
   "cell_type": "code",
   "execution_count": null,
   "metadata": {},
   "outputs": [],
   "source": [
    "user = cognito.admin_get_user(\n",
    "    UserPoolId=user_pool_id,\n",
    "    Username=user_mail\n",
    ")\n",
    "\n",
    "prettify_user_output(user)"
   ]
  }
 ],
 "metadata": {
  "kernelspec": {
   "display_name": "Python 3.8.13 ('venv': venv)",
   "language": "python",
   "name": "python3"
  },
  "language_info": {
   "codemirror_mode": {
    "name": "ipython",
    "version": 3
   },
   "file_extension": ".py",
   "mimetype": "text/x-python",
   "name": "python",
   "nbconvert_exporter": "python",
   "pygments_lexer": "ipython3",
   "version": "3.8.13"
  },
  "orig_nbformat": 4,
  "vscode": {
   "interpreter": {
    "hash": "a0c3c364c3d673c8706f50f9ba9b13c3495071e9a97323498528286dfb292bc9"
   }
  }
 },
 "nbformat": 4,
 "nbformat_minor": 2
}
